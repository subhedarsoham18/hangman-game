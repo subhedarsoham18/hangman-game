{
  "nbformat": 4,
  "nbformat_minor": 0,
  "metadata": {
    "colab": {
      "provenance": [],
      "authorship_tag": "ABX9TyO986j2XQtrq8hsqt4EZJNZ",
      "include_colab_link": true
    },
    "kernelspec": {
      "name": "python3",
      "display_name": "Python 3"
    },
    "language_info": {
      "name": "python"
    }
  },
  "cells": [
    {
      "cell_type": "markdown",
      "metadata": {
        "id": "view-in-github",
        "colab_type": "text"
      },
      "source": [
        "<a href=\"https://colab.research.google.com/github/subhedarsoham18/hangman-game/blob/main/hangman_game.ipynb\" target=\"_parent\"><img src=\"https://colab.research.google.com/assets/colab-badge.svg\" alt=\"Open In Colab\"/></a>"
      ]
    },
    {
      "cell_type": "code",
      "execution_count": 1,
      "metadata": {
        "colab": {
          "base_uri": "https://localhost:8080/"
        },
        "id": "iqU_fn3-QTme",
        "outputId": "c0247e77-d91f-4dc3-965b-36ce0f0a0377"
      },
      "outputs": [
        {
          "output_type": "stream",
          "name": "stdout",
          "text": [
            "Welcome to Hangman!\n",
            "_ _ _ _ _ \n",
            "\n",
            "Guess a letter: h\n",
            "Correct!\n",
            "_ h _ _ _\n",
            "\n",
            "Guess a letter: j\n",
            "Wrong! You have 5 guesses left.\n",
            "_ h _ _ _\n",
            "\n",
            "Guess a letter: c\n",
            "Correct!\n",
            "c h _ _ _\n",
            "\n",
            "Guess a letter: r\n",
            "Correct!\n",
            "c h _ _ r\n",
            "\n",
            "Guess a letter: a\n",
            "Correct!\n",
            "c h a _ r\n",
            "\n",
            "Guess a letter: i\n",
            "Correct!\n",
            "c h a i r\n",
            "\n",
            "You won! The word was: chair\n"
          ]
        }
      ],
      "source": [
        "import random\n",
        "words = [\"apple\", \"table\", \"plant\", \"train\", \"chair\"]\n",
        "secret_word = random.choice(words)\n",
        "guessed_letters = []\n",
        "incorrect_guesses = 0\n",
        "max_guesses = 6\n",
        "\n",
        "print(\"Welcome to Hangman!\")\n",
        "print(\"_ \" * len(secret_word))\n",
        "while incorrect_guesses < max_guesses:\n",
        "    guess = input(\"\\nGuess a letter: \").lower()\n",
        "    if len(guess) != 1 or not guess.isalpha():\n",
        "        print(\"Please enter a single letter (a-z).\")\n",
        "        continue\n",
        "\n",
        "    if guess in guessed_letters:\n",
        "        print(\"You've already guessed that letter.\")\n",
        "        continue\n",
        "\n",
        "    guessed_letters.append(guess)\n",
        "\n",
        "    if guess in secret_word:\n",
        "        print(\"Correct!\")\n",
        "    else:\n",
        "        incorrect_guesses += 1\n",
        "        print(f\"Wrong! You have {max_guesses - incorrect_guesses} guesses left.\")\n",
        "\n",
        "    display_word = \"\"\n",
        "    for letter in secret_word:\n",
        "        if letter in guessed_letters:\n",
        "            display_word += letter + \" \"\n",
        "        else:\n",
        "            display_word += \"_ \"\n",
        "    print(display_word.strip())\n",
        "    if all(letter in guessed_letters for letter in secret_word):\n",
        "        print(\"\\nYou won! The word was:\", secret_word)\n",
        "        break\n",
        "else:\n",
        "    print(\"\\nGame over! The word was:\", secret_word)\n"
      ]
    }
  ]
}